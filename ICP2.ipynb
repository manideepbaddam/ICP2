{
  "nbformat": 4,
  "nbformat_minor": 0,
  "metadata": {
    "colab": {
      "provenance": []
    },
    "kernelspec": {
      "name": "python3",
      "display_name": "Python 3"
    },
    "language_info": {
      "name": "python"
    }
  },
  "cells": [
    {
      "cell_type": "code",
      "execution_count": 2,
      "metadata": {
        "colab": {
          "base_uri": "https://localhost:8080/"
        },
        "id": "CzsklvMoh44u",
        "outputId": "21e8ec4c-3a04-46c7-f89e-18fb432db971"
      },
      "outputs": [
        {
          "output_type": "stream",
          "name": "stdout",
          "text": [
            "Enter your first name: Mani\n",
            "Enter your last name: Reddy\n",
            "your full_name is :  Mani Reddy\n",
            "your alternative string is:  Mn ed\n"
          ]
        }
      ],
      "source": [
        "first_name = input(\"Enter your first name: \")\n",
        "last_name = input(\"Enter your last name: \")\n",
        "def fullname(first_name, last_name):\n",
        "    global full_name\n",
        "    full_name = first_name + \" \" + last_name\n",
        "    print(\"your full_name is : \", full_name)\n",
        "fullname(first_name, last_name)\n",
        "def string_alternative(full_name):\n",
        "    print(\"your alternative string is: \", full_name[::2])\n",
        "string_alternative(full_name)"
      ]
    },
    {
      "cell_type": "code",
      "source": [
        "import numpy as np\n",
        "mylst = []\n",
        "\n",
        "# number of elements as input\n",
        "n = int(input(\"Enter number of elements : \"))\n",
        "\n",
        "# iterating till the range\n",
        "for i in range(0, n):\n",
        "    ele = int(input())\n",
        "\n",
        "    mylst.append(ele) # adding the element\n",
        "\n",
        "print(mylst)\n",
        "lyst = mylst\n",
        "result = 2.54\n",
        "for x in lyst:\n",
        " h_cm = np.array(lyst) * result\n",
        " new_list = list(h_cm)\n",
        "print(new_list)"
      ],
      "metadata": {
        "colab": {
          "base_uri": "https://localhost:8080/"
        },
        "id": "uHaHe3dXn3MV",
        "outputId": "ccb79460-db7b-4cb1-abb8-7300fafb28cf"
      },
      "execution_count": 11,
      "outputs": [
        {
          "output_type": "stream",
          "name": "stdout",
          "text": [
            "Enter number of elements : 4\n",
            "120\n",
            "60\n",
            "160\n",
            "80\n",
            "[120, 60, 160, 80]\n",
            "[304.8, 152.4, 406.4, 203.2]\n"
          ]
        }
      ]
    },
    {
      "cell_type": "code",
      "source": [
        "def word_count(str):\n",
        "    counts = dict()\n",
        "    words = str.split()\n",
        "\n",
        "    for word in words:\n",
        "        if word in counts:\n",
        "            counts[word] += 1\n",
        "        else:\n",
        "            counts[word] = 1\n",
        "\n",
        "    return counts\n",
        "with open('sample.txt', 'r') as file1:\n",
        "  FileContent = file1.read()\n",
        "  print(word_count(FileContent))"
      ],
      "metadata": {
        "colab": {
          "base_uri": "https://localhost:8080/"
        },
        "id": "pWG4XiGfrjn5",
        "outputId": "95307722-c5b6-45ea-ac03-33999c9c75c2"
      },
      "execution_count": 14,
      "outputs": [
        {
          "output_type": "stream",
          "name": "stdout",
          "text": [
            "{'Python': 2, 'Course': 4, 'Deep': 2, 'Learning': 2, 'count': 1, ':': 1, '1': 5}\n"
          ]
        }
      ]
    }
  ]
}